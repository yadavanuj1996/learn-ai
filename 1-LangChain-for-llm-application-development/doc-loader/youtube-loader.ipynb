{
 "cells": [
  {
   "cell_type": "code",
   "execution_count": 1,
   "id": "f9ebeda7-9f02-432c-94cb-c8bd698d4b79",
   "metadata": {},
   "outputs": [
    {
     "data": {
      "text/plain": [
       "'\\nloader = GenericLoader(\\n    blob_loader=FileSystemBlobLoader(save_dir, glob=\"*.m4a\"),   #fetch locally\\n    blob_parser=OpenAIWhisperParser()\\n)\\ndocs = loader.load()\\n\\n\\n'"
      ]
     },
     "execution_count": 1,
     "metadata": {},
     "output_type": "execute_result"
    }
   ],
   "source": [
    "import os\n",
    "import openai\n",
    "import sys\n",
    "sys.path.append('../..')\n",
    "\n",
    "from dotenv import load_dotenv, find_dotenv\n",
    "_ = load_dotenv(find_dotenv()) # read local .env file\n",
    "\n",
    "openai.api_key  = os.environ['OPENAI_API_KEY']\n",
    "\n",
    "\n",
    "from langchain_community.document_loaders import FileSystemBlobLoader\n",
    "\n",
    "from langchain.document_loaders.generic import GenericLoader\n",
    "from langchain.document_loaders.parsers import OpenAIWhisperParser\n",
    "from langchain_community.document_loaders.blob_loaders import YoutubeAudioLoader\n",
    "\n",
    "\n",
    "url=\"https://www.youtube.com/watch?v=jGwO_UgTS7I\"\n",
    "save_dir=\"../docs/youtube/\"\n",
    "\n",
    "YoutubeAudioLoader([url],save_dir),  # fetch from youtube\n",
    "   \n",
    "\"\"\"\n",
    "loader = GenericLoader(\n",
    "    blob_loader=FileSystemBlobLoader(save_dir, glob=\"*.m4a\"),   #fetch locally\n",
    "    blob_parser=OpenAIWhisperParser()\n",
    ")\n",
    "docs = loader.load()\n",
    "\n",
    "\n",
    "\"\"\""
   ]
  },
  {
   "cell_type": "code",
   "execution_count": 2,
   "id": "ec3522cf-087d-4f19-a58a-f4d968ae0b6d",
   "metadata": {},
   "outputs": [],
   "source": [
    "#print(len(docs))"
   ]
  },
  {
   "cell_type": "code",
   "execution_count": null,
   "id": "41ae62b4-0909-4640-a6fd-53b455aaa987",
   "metadata": {},
   "outputs": [],
   "source": []
  }
 ],
 "metadata": {
  "kernelspec": {
   "display_name": "Python (backend-ve)",
   "language": "python",
   "name": "backend-ve"
  },
  "language_info": {
   "codemirror_mode": {
    "name": "ipython",
    "version": 3
   },
   "file_extension": ".py",
   "mimetype": "text/x-python",
   "name": "python",
   "nbconvert_exporter": "python",
   "pygments_lexer": "ipython3",
   "version": "3.10.6"
  }
 },
 "nbformat": 4,
 "nbformat_minor": 5
}
