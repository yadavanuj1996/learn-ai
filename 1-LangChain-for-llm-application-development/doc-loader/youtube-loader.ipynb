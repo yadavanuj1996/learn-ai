{
 "cells": [
  {
   "cell_type": "code",
   "execution_count": 1,
   "id": "f9ebeda7-9f02-432c-94cb-c8bd698d4b79",
   "metadata": {},
   "outputs": [
    {
     "name": "stdout",
     "output_type": "stream",
     "text": [
      "Transcribing part 1!\n"
     ]
    }
   ],
   "source": [
    "import os\n",
    "import openai\n",
    "import sys\n",
    "sys.path.append('../..')\n",
    "\n",
    "from dotenv import load_dotenv, find_dotenv\n",
    "_ = load_dotenv(find_dotenv()) # read local .env file\n",
    "\n",
    "openai.api_key  = os.environ['OPENAI_API_KEY']\n",
    "\n",
    "\n",
    "from langchain.document_loaders.generic import GenericLoader\n",
    "from langchain.document_loaders.blob_loaders.file_system import FileSystemBlobLoader\n",
    "from langchain.document_loaders.blob_loaders.youtube_audio import YoutubeAudioLoader\n",
    "from langchain.document_loaders.parsers import OpenAIWhisperParser\n",
    "\n",
    "\n",
    "url=\"https://www.youtube.com/watch?v=jGwO_UgTS7I\"\n",
    "save_dir=\"../docs/youtube/\"\n",
    "\n",
    "loader = GenericLoader(\n",
    "    #YoutubeAudioLoader([url], save_dir),  # Fetch from YouTube uncomment for first time, youtube video to audio\n",
    "    FileSystemBlobLoader(save_dir, glob=\"*.m4a\"),   #fetch locally for second time no need to fetch from youtube again\n",
    "    OpenAIWhisperParser()                             # used for converting speech to text\n",
    ")\n",
    "\n",
    "docs = loader.load()\n",
    " "
   ]
  },
  {
   "cell_type": "code",
   "execution_count": 2,
   "id": "afa31092-d827-4c3e-bd06-4902f57f829c",
   "metadata": {},
   "outputs": [
    {
     "name": "stdout",
     "output_type": "stream",
     "text": [
      "[Document(metadata={'source': '../docs/youtube/short.m4a', 'chunk': 0}, page_content=\"29 machine learning. Uh, some of you know that this class I taught at Stanford for a long time. And this is often the class that, um, I most look forward to teaching each year because this is where we've helped, I think, several generations of Stanford students become experts in machine.\")]\n"
     ]
    }
   ],
   "source": [
    "print(docs)"
   ]
  },
  {
   "cell_type": "code",
   "execution_count": 3,
   "id": "1fe6f2ea-c882-47f4-a26f-78a914dcb165",
   "metadata": {},
   "outputs": [
    {
     "data": {
      "text/plain": [
       "\"29 machine learning. Uh, some of you know that this class I taught at Stanford for a long time. And this is often the class that, um, I most look forward to teaching each year because this is where we've helped, I think, several generations of Stanford students become experts in machine.\""
      ]
     },
     "execution_count": 3,
     "metadata": {},
     "output_type": "execute_result"
    }
   ],
   "source": [
    "docs[0].page_content[0:500]"
   ]
  },
  {
   "cell_type": "code",
   "execution_count": null,
   "id": "95b37a4d-e85d-4855-8d45-640742461a69",
   "metadata": {},
   "outputs": [],
   "source": []
  }
 ],
 "metadata": {
  "kernelspec": {
   "display_name": "Python (backend-ve)",
   "language": "python",
   "name": "backend-ve"
  },
  "language_info": {
   "codemirror_mode": {
    "name": "ipython",
    "version": 3
   },
   "file_extension": ".py",
   "mimetype": "text/x-python",
   "name": "python",
   "nbconvert_exporter": "python",
   "pygments_lexer": "ipython3",
   "version": "3.10.18"
  }
 },
 "nbformat": 4,
 "nbformat_minor": 5
}
