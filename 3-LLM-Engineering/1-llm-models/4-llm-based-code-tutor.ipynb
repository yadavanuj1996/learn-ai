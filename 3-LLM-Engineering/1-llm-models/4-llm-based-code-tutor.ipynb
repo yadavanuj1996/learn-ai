{
 "cells": [
  {
   "cell_type": "markdown",
   "id": "fe12c203-e6a6-452c-a655-afb8a03a4ff5",
   "metadata": {},
   "source": [
    "# Problem Statement\n",
    "\n",
    "To demonstrate your familiarity with OpenAI API, and also Ollama, build a tool that takes a technical question,  \n",
    "and responds with an explanation. This is a tool that you will be able to use yourself during the course!"
   ]
  },
  {
   "cell_type": "code",
   "execution_count": 48,
   "id": "c1070317-3ed9-4659-abe3-828943230e03",
   "metadata": {},
   "outputs": [
    {
     "name": "stdout",
     "output_type": "stream",
     "text": [
      "API key found and looks good so far!\n"
     ]
    }
   ],
   "source": [
    "# imports\n",
    "import os\n",
    "from openai import OpenAI\n",
    "from dotenv import load_dotenv\n",
    "from IPython.display import Markdown, display, update_display\n",
    "\n",
    "load_dotenv(override=True)\n",
    "api_key = os.getenv('OPENAI_API_KEY')\n",
    "\n",
    "# Check the key\n",
    "\n",
    "if not api_key:\n",
    "    print(\"No API key was found - please head over to the troubleshooting notebook in this folder to identify & fix!\")\n",
    "elif not api_key.startswith(\"sk-proj-\"):\n",
    "    print(\"An API key was found, but it doesn't start sk-proj-; please check you're using the right key - see troubleshooting notebook\")\n",
    "elif api_key.strip() != api_key:\n",
    "    print(\"An API key was found, but it looks like it might have space or tab characters at the start or end - please remove them - see troubleshooting notebook\")\n",
    "else:\n",
    "    print(\"API key found and looks good so far!\")\n"
   ]
  },
  {
   "cell_type": "code",
   "execution_count": 60,
   "id": "4a456906-915a-4bfd-bb9d-57e505c5093f",
   "metadata": {},
   "outputs": [],
   "source": [
    "# constants\n",
    "\n",
    "MODEL_GPT = 'gpt-4o-mini'\n",
    "MODEL_LLAMA = 'llama3.2'"
   ]
  },
  {
   "cell_type": "code",
   "execution_count": 61,
   "id": "a8d7923c-5f28-4c30-8556-342d7c8497c1",
   "metadata": {},
   "outputs": [],
   "source": [
    "# set up environment\n",
    "openai = OpenAI()"
   ]
  },
  {
   "cell_type": "code",
   "execution_count": 62,
   "id": "3f0d0137-52b0-47a8-81a8-11a90a010798",
   "metadata": {},
   "outputs": [],
   "source": [
    "# here is the question; type over this to ask something new\n",
    "\n",
    "question = \"\"\"\n",
    "Please explain what this code does and why:\n",
    "yield from {book.get(\"author\") for book in books if book.get(\"author\")}\n",
    "\"\"\""
   ]
  },
  {
   "cell_type": "code",
   "execution_count": 63,
   "id": "462333fb-11ed-48cc-b542-74e1f4e78a22",
   "metadata": {},
   "outputs": [],
   "source": [
    "system_prompt = \"You are a AI coding tutorial assistant. You will explain code snippets (don't be all theoretical you can use examples as well if you feel code is too complex you can go in detail as well and also provide alternate solutions), suggest new code if asked, and answer questions about programming.\"\n",
    "user_prompt = f\"Please explain this code - {question}\"\n",
    "messages = [\n",
    "    {\"role\": \"system\", \"content\": system_prompt},\n",
    "    {\"role\": \"user\", \"content\": question}\n",
    "]"
   ]
  },
  {
   "cell_type": "code",
   "execution_count": 64,
   "id": "60ce7000-a4a5-4cce-a261-e75ef45063b4",
   "metadata": {},
   "outputs": [
    {
     "data": {
      "text/markdown": [
       "This code snippet is using a combination of Python's `yield from`, set comprehensions, and potentially iterating over a list of dictionaries. Let's break the code down step by step to understand what it does and why it's written this way.\n",
       "\n",
       "### Code Breakdown\n",
       "\n",
       "1. **Set Comprehension**:\n",
       "   python\n",
       "   {book.get(\"author\") for book in books if book.get(\"author\")}\n",
       "   \n",
       "   - This part creates a `set` of authors.\n",
       "   - It iterates over a collection called `books`, which is presumably a list of dictionaries.\n",
       "   - For each `book`, it calls `book.get(\"author\")`. This retrieves the value associated with the key `\"author\"` in the dictionary `book`.\n",
       "   - The condition `if book.get(\"author\")` ensures that only books which actually have an `author` (i.e., the value is not `None`, empty string, etc.) are considered for the set.\n",
       "\n",
       "   The result of this set comprehension is a set of unique authors from the list of books.\n",
       "\n",
       "2. **`yield from`**:\n",
       "   python\n",
       "   yield from { ... }\n",
       "   \n",
       "   - `yield from` is a keyword in Python that is used in generator functions to yield all values from an iterable.\n",
       "   - When the generator function containing this line is called, it will yield each element from the set of authors, one at a time.\n",
       "\n",
       "### Complete Understanding\n",
       "\n",
       "So, putting it all together:\n",
       "- The code defines a generator that will yield all unique authors from the list of `books` as long as they exist in each book's dictionary.\n",
       "- The use of a set ensures that when yielding authors, each name appears only once, regardless of how many books might belong to the same author.\n",
       "\n",
       "### Example\n",
       "\n",
       "Suppose you have the following list of dictionaries:\n",
       "\n",
       "python\n",
       "books = [\n",
       "    {\"title\": \"Book A\", \"author\": \"Author 1\"},\n",
       "    {\"title\": \"Book B\", \"author\": \"Author 2\"},\n",
       "    {\"title\": \"Book C\", \"author\": \"Author 1\"},\n",
       "    {\"title\": \"Book D\", \"author\": None},\n",
       "    {\"title\": \"Book E\", \"author\": \"Author 3\"},\n",
       "]\n",
       "\n",
       "\n",
       "Using the code in a generator function like this:\n",
       "\n",
       "python\n",
       "def get_unique_authors(books):\n",
       "    yield from {book.get(\"author\") for book in books if book.get(\"author\")}\n",
       "\n",
       "for author in get_unique_authors(books):\n",
       "    print(author)\n",
       "\n",
       "\n",
       "### Output\n",
       "This would output:\n",
       "\n",
       "Author 1\n",
       "Author 2\n",
       "Author 3\n",
       "\n",
       "\n",
       "### Summary\n",
       "- The code efficiently extracts unique authors from a list of book dictionaries while skipping any entries without an author.\n",
       "- It uses a generator to produce the results lazily (i.e., yielding one author at a time as they are requested).\n",
       "\n",
       "Feel free to ask if you have further questions or need variations of this code!"
      ],
      "text/plain": [
       "<IPython.core.display.Markdown object>"
      ]
     },
     "metadata": {},
     "output_type": "display_data"
    }
   ],
   "source": [
    "# Get gpt-4o-mini to answer, with streaming\n",
    "\n",
    "response_stream = openai.chat.completions.create(model=MODEL_GPT, messages=messages, stream=True)\n",
    "\n",
    "response = \"\"\n",
    "display_handle = display(Markdown(\"\"), display_id=True)\n",
    "\n",
    "for chunk in response_stream:\n",
    "    response += chunk.choices[0].delta.content or ''\n",
    "    response = response.replace(\"```\",\"\").replace(\"markdown\", \"\")\n",
    "    update_display(Markdown(response), display_id=display_handle.display_id)"
   ]
  },
  {
   "cell_type": "code",
   "execution_count": 53,
   "id": "8f7c8ea8-4082-4ad0-8751-3301adcf6538",
   "metadata": {},
   "outputs": [],
   "source": [
    "# Get Llama 3.2 to answer"
   ]
  },
  {
   "cell_type": "code",
   "execution_count": 54,
   "id": "2f10fb77-7dce-4469-b8ae-23c74202ec91",
   "metadata": {},
   "outputs": [
    {
     "name": "stdout",
     "output_type": "stream",
     "text": [
      "\u001b[?2026h\u001b[?25l\u001b[1Gpulling manifest ⠋ \u001b[K\u001b[?25h\u001b[?2026l\u001b[?2026h\u001b[?25l\u001b[1Gpulling manifest ⠙ \u001b[K\u001b[?25h\u001b[?2026l\u001b[?2026h\u001b[?25l\u001b[1Gpulling manifest ⠹ \u001b[K\u001b[?25h\u001b[?2026l\u001b[?2026h\u001b[?25l\u001b[1Gpulling manifest ⠸ \u001b[K\u001b[?25h\u001b[?2026l\u001b[?2026h\u001b[?25l\u001b[1Gpulling manifest ⠼ \u001b[K\u001b[?25h\u001b[?2026l\u001b[?2026h\u001b[?25l\u001b[1Gpulling manifest ⠴ \u001b[K\u001b[?25h\u001b[?2026l\u001b[?2026h\u001b[?25l\u001b[1Gpulling manifest ⠦ \u001b[K\u001b[?25h\u001b[?2026l\u001b[?2026h\u001b[?25l\u001b[1Gpulling manifest ⠧ \u001b[K\u001b[?25h\u001b[?2026l\u001b[?2026h\u001b[?25l\u001b[1Gpulling manifest ⠇ \u001b[K\u001b[?25h\u001b[?2026l\u001b[?2026h\u001b[?25l\u001b[1Gpulling manifest ⠏ \u001b[K\u001b[?25h\u001b[?2026l\u001b[?2026h\u001b[?25l\u001b[1Gpulling manifest ⠋ \u001b[K\u001b[?25h\u001b[?2026l\u001b[?2026h\u001b[?25l\u001b[1Gpulling manifest \u001b[K\n",
      "pulling dde5aa3fc5ff: 100% ▕██████████████████▏ 2.0 GB                         \u001b[K\n",
      "pulling 966de95ca8a6: 100% ▕██████████████████▏ 1.4 KB                         \u001b[K\n",
      "pulling fcc5a6bec9da: 100% ▕██████████████████▏ 7.7 KB                         \u001b[K\n",
      "pulling a70ff7e570d9: 100% ▕██████████████████▏ 6.0 KB                         \u001b[K\n",
      "pulling 56bb8bd477a5: 100% ▕██████████████████▏   96 B                         \u001b[K\n",
      "pulling 34bb5ab01051: 100% ▕██████████████████▏  561 B                         \u001b[K\n",
      "verifying sha256 digest \u001b[K\n",
      "writing manifest \u001b[K\n",
      "success \u001b[K\u001b[?25h\u001b[?2026l\n"
     ]
    }
   ],
   "source": [
    "!ollama pull llama3.2"
   ]
  },
  {
   "cell_type": "code",
   "execution_count": 65,
   "id": "9dd39205-b512-4675-aaa2-f19ede59bb79",
   "metadata": {},
   "outputs": [],
   "source": [
    "ollama_via_openai_library = OpenAI(base_url=\"http://localhost:11434/v1\", api_key=\"ollama\")"
   ]
  },
  {
   "cell_type": "code",
   "execution_count": 67,
   "id": "671c8819-9db2-4c4a-9dc6-367a8daccd19",
   "metadata": {},
   "outputs": [
    {
     "data": {
      "text/markdown": [
       "**Code Analysis**\n",
       "\n",
       "The given code snippet is a Python expression that uses the `yield from` statement with a generator expression to extract author names from a list of books. Here's a breakdown:\n",
       "\n",
       "* `yield from`: This keyword is used in Python 3.x to specify a \"yield from\" clause, which delegates the production of an iteration sequence to a sub-generator or iterator.\n",
       "* `{book.get(\"author\") for book in books if book.get(\"author\")}`: This is a generator expression that:\n",
       "\t+ Iterates over each `book` in the `books` list.\n",
       "\t+ Uses the `get()` method on each book to retrieve its \"author\" value. If the key does not exist, it defaults to `None`.\n",
       "\t+ Filters out books where the \"author\" value is `None` by applying an implicit filter `(book.get(\"author\") for ...) if (book.get(\"author\"))`.\n",
       "\t+ Yields the author name from each book.\n",
       "\n",
       "**Example Walkthrough**\n",
       "\n",
       "Suppose we have a list of books:\n",
       "\n",
       "```python\n",
       "books = [\n",
       "    {\"id\": 1, \"title\": \"The Great Gatsby\", \"author\": \"F. Scott Fitzgerald\"},\n",
       "    {\"id\": 2, \"title\": \"To Kill a Mockingbird\", \"author\": None},\n",
       "    {\"id\": 3, \"title\": \"Pride and Prejudice\", \"author\": \"Jane Austen\"}\n",
       "]\n",
       "```\n",
       "\n",
       "When we run the code snippet, it will iterate over `books`, filter out books without an author, and yield their corresponding author names.\n",
       "\n",
       "**Output**\n",
       "\n",
       "The output of this generator expression would be:\n",
       "\n",
       "```python\n",
       "['F. Scott Fitzgerald', 'Jane Austen']\n",
       "```\n",
       "\n",
       "This is because the second book in the example list (\"To Kill a Mockingbird\") does not have an author specified, so it's excluded from the results.\n",
       "\n",
       "**Why `yield from`?**\n",
       "\n",
       "The use of `yield from` is necessary here because we want to pass the author names from each book directly to whatever function or context that follows this generator expression. Without `yield from`, we would need to return the authors as a list, which defeats the purpose of using a generator expression in the first place.\n",
       "\n",
       "By yielding the author values directly, we allow the receiving code to process them one by one, rather than collecting all the values into a single list at once. This is especially useful when working with large datasets or streams."
      ],
      "text/plain": [
       "<IPython.core.display.Markdown object>"
      ]
     },
     "metadata": {},
     "output_type": "display_data"
    }
   ],
   "source": [
    "response = ollama_via_openai_library.chat.completions.create(model=MODEL_LLAMA, messages=messages, stream=False)\n",
    "display(Markdown(response.choices[0].message.content))"
   ]
  },
  {
   "cell_type": "code",
   "execution_count": null,
   "id": "fc39e2b6-918c-4e87-91ea-ba4917c9a7a4",
   "metadata": {},
   "outputs": [],
   "source": []
  }
 ],
 "metadata": {
  "kernelspec": {
   "display_name": "Python 3 (ipykernel)",
   "language": "python",
   "name": "python3"
  },
  "language_info": {
   "codemirror_mode": {
    "name": "ipython",
    "version": 3
   },
   "file_extension": ".py",
   "mimetype": "text/x-python",
   "name": "python",
   "nbconvert_exporter": "python",
   "pygments_lexer": "ipython3",
   "version": "3.13.4"
  }
 },
 "nbformat": 4,
 "nbformat_minor": 5
}
